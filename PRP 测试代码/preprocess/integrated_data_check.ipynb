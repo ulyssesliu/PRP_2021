{
 "cells": [
  {
   "cell_type": "code",
   "execution_count": 1,
   "metadata": {},
   "outputs": [
    {
     "name": "stdout",
     "output_type": "stream",
     "text": [
      "已生成DATASET-B\n"
     ]
    }
   ],
   "source": [
    "import pandas as pd\n",
    "\n",
    "# define the address\n",
    "\n",
    "WEEK1_LINUX = '/media/chuang/LC/大学/第40期PRP/特征提取/1_feature_analysis/Intergated-DATASET-C.csv'\n",
    "WEEK2_LINUX = '/media/chuang/LC/大学/第40期PRP/特征提取/1_feature_analysis/Intergated-DATASET-week2.csv' \n",
    "WEEK34_LINUX = '/media/chuang/LC/大学/第40期PRP/特征提取/1_feature_analysis/Intergated-DATASET-week3-4.csv'\n",
    "DATASET_DST_LINUX = '/media/chuang/LC/大学/第40期PRP/特征提取/DATASET-B.csv'\n",
    "\n",
    "addresses = [WEEK1_LINUX, WEEK2_LINUX, WEEK34_LINUX]\n",
    "jar = []\n",
    "\n",
    "for address in addresses:\n",
    "    jar.append(pd.read_csv(address))\n",
    "\n",
    "DATASET_B = pd.concat(jar, axis=0)\n",
    "DATASET_B.to_csv(DATASET_DST_LINUX, index=None)\n",
    "print('已生成DATASET-B')\n",
    "\n",
    "\n"
   ]
  },
  {
   "cell_type": "code",
   "execution_count": 3,
   "metadata": {},
   "outputs": [
    {
     "data": {
      "text/plain": [
       "date\n",
       "20161101    1069823\n",
       "20161102    1048124\n",
       "20161103    1059566\n",
       "20161104    1079117\n",
       "20161105    1116338\n",
       "20161106    1070925\n",
       "20161107    1072494\n",
       "20161111    1103240\n",
       "20161112    1141662\n",
       "20161113    1082648\n",
       "20161114    1088472\n",
       "20161115    1083511\n",
       "20161121    1096878\n",
       "20161122    1095367\n",
       "20161123    1088338\n",
       "20161124    1092822\n",
       "20161125    1107211\n",
       "20161126    1132611\n",
       "20161127    1119224\n",
       "20161128    1111675\n",
       "20161129    1117644\n",
       "20161130    1119545\n",
       "dtype: int64"
      ]
     },
     "execution_count": 3,
     "metadata": {},
     "output_type": "execute_result"
    }
   ],
   "source": [
    "DATASET_B.groupby('date').size()"
   ]
  }
 ],
 "metadata": {
  "interpreter": {
   "hash": "c443225b7fc2ff33c119d55c3c015bfc9996ade46ff83caec71ce1aa676d46d1"
  },
  "kernelspec": {
   "display_name": "Python 3.9.7 64-bit ('base': conda)",
   "language": "python",
   "name": "python3"
  },
  "language_info": {
   "codemirror_mode": {
    "name": "ipython",
    "version": 3
   },
   "file_extension": ".py",
   "mimetype": "text/x-python",
   "name": "python",
   "nbconvert_exporter": "python",
   "pygments_lexer": "ipython3",
   "version": "3.7.0"
  },
  "orig_nbformat": 4
 },
 "nbformat": 4,
 "nbformat_minor": 2
}
