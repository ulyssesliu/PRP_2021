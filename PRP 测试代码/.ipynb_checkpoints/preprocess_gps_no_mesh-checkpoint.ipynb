{
 "cells": [
  {
   "cell_type": "code",
   "execution_count": 1,
   "id": "3922df77",
   "metadata": {},
   "outputs": [],
   "source": [
    "'''\n",
    "此代码目前仅可分析某一天（单文件）的某个时间段（预定的时间区间）的订单和位置数据\n",
    "'''\n",
    "\n",
    "import pandas as pd\n",
    "import numpy as np\n",
    "import time\n",
    "import os\n",
    "from utm import *\n",
    "from tqdm import tqdm, tqdm_pandas\n",
    "from osgeo import osr"
   ]
  },
  {
   "cell_type": "code",
   "execution_count": 2,
   "id": "853f1fb7",
   "metadata": {},
   "outputs": [],
   "source": [
    "# 在此处设置一些文件地址\n",
    "feature_file_name = 'no mesh 10-30'\n",
    "csv_path = 'F:/大学/第40期PRP/交通订单数据/traffic_data/gps_20161101.csv'\n",
    "feature_dst_path = 'F:/大学/第40期PRP/特征提取/' + feature_file_name + '.csv'"
   ]
  },
  {
   "cell_type": "code",
   "execution_count": 3,
   "id": "983a7430",
   "metadata": {},
   "outputs": [],
   "source": [
    "# 在此处设置时间窗(秒)和空间网格的边长(WGS84坐标系)\n",
    "time_interval = 600\n",
    "space_interval = 70"
   ]
  },
  {
   "cell_type": "code",
   "execution_count": null,
   "id": "6a134bca",
   "metadata": {},
   "outputs": [],
   "source": [
    "# 设置时间区间 读取原数据\n",
    "# 时间区间: 减少单次的处理量\n",
    "time1 = '2016 11 01 08:00:00'\n",
    "time2 = '2016 11 01 10:00:00'\n",
    "stamp1 = time.mktime(time.strptime(time1, '%Y %m %d %H:%M:%S'))\n",
    "stamp2 = time.mktime(time.strptime(time2, '%Y %m %d %H:%M:%S'))\n",
    "#读取原地理数据\n",
    "df = pd.read_csv(csv_path, header = None) #注意我此处使用的是移动硬盘的地址\n",
    "df.columns = ['driver_ID', 'order_ID', 'timestamp', 'lon', 'lat']"
   ]
  },
  {
   "cell_type": "code",
   "execution_count": null,
   "id": "c8f6eaf7",
   "metadata": {},
   "outputs": [],
   "source": [
    "# 空间坐标系转换\n",
    "df = df[(df['timestamp'] >= stamp1)&(df['timestamp'] <= stamp2)].reset_index(drop = True)\n",
    "\n",
    "# 定义坐标系转换\n",
    "# 1.WGS-84\n",
    "wgs84 = osr.SpatialReference()\n",
    "wgs84.ImportFromEPSG(4326)\n",
    "# 2.Pseudo-Mercator\n",
    "inp = osr.SpatialReference()\n",
    "inp.ImportFromEPSG(3857)\n",
    "# 3.定义坐标变换映射\n",
    "transformation = osr.CoordinateTransformation(wgs84, inp)\n",
    "# 4.转换原数据的坐标\n",
    "xy = df[['lon','lat']].apply(lambda x: transformation.TransformPoint(x[0],x[1])[:2], axis = 1)\n"
   ]
  },
  {
   "cell_type": "code",
   "execution_count": null,
   "id": "2b52e145",
   "metadata": {},
   "outputs": [],
   "source": [
    "# 将所生成的xy坐标系数据写入dataframe\n",
    "df['lon'] = [x[0] for x in xy]\n",
    "df['lat'] = [x[1] for x in xy]\n",
    "df"
   ]
  },
  {
   "cell_type": "code",
   "execution_count": null,
   "id": "43751fb8",
   "metadata": {},
   "outputs": [],
   "source": [
    "# 导出数据\n",
    "df.to_csv(feature_dst_path, index = None)"
   ]
  }
 ],
 "metadata": {
  "kernelspec": {
   "display_name": "Python 3",
   "language": "python",
   "name": "python3"
  },
  "language_info": {
   "codemirror_mode": {
    "name": "ipython",
    "version": 3
   },
   "file_extension": ".py",
   "mimetype": "text/x-python",
   "name": "python",
   "nbconvert_exporter": "python",
   "pygments_lexer": "ipython3",
   "version": "3.6.13"
  }
 },
 "nbformat": 4,
 "nbformat_minor": 5
}
